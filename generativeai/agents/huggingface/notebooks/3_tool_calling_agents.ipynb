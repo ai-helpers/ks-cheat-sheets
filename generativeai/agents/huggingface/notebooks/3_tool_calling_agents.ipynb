{
 "cells": [
  {
   "cell_type": "markdown",
   "metadata": {
    "id": "Pi9CF0391ARI"
   },
   "source": [
    "# Integrating Agents With Tools\n",
    "\n",
    "This notebook is part of the [Hugging Face Agents Course](https://www.hf.co/learn/agents-course), a free Course from beginner to expert, where you learn to build Agents.\n"
   ]
  },
  {
   "cell_type": "markdown",
   "metadata": {
    "id": "9gsYky7F1GzT"
   },
   "source": [
    "## Let's install the dependencies and login to our HF account to access the Inference API\n",
    "\n",
    "If you haven't installed `smolagents` yet, you can do so by running the following command:"
   ]
  },
  {
   "cell_type": "code",
   "execution_count": null,
   "metadata": {
    "id": "MoFopncp0pnJ"
   },
   "outputs": [],
   "source": [
    "!pip install smolagents -U"
   ]
  },
  {
   "cell_type": "markdown",
   "metadata": {
    "id": "cH-4W1GhYL4T"
   },
   "source": [
    "Let's also login to the Hugging Face Hub to have access to the Inference API."
   ]
  },
  {
   "cell_type": "code",
   "execution_count": null,
   "metadata": {
    "id": "TFTc-ry70y1f"
   },
   "outputs": [],
   "source": [
    "from huggingface_hub import notebook_login\n",
    "\n",
    "notebook_login()"
   ]
  },
  {
   "cell_type": "markdown",
   "metadata": {
    "id": "ekKxaZrd1HlB"
   },
   "source": [
    "## Selecting a Playlist for the Party Using `smolagents` and a `ToolCallingAgent`\n",
    "\n",
    "Let's revisit the previous example where Alfred started party preparations, but this time we'll use a `ToolCallingAgent` to highlight the difference. We'll build an agent that can search the web using DuckDuckGo, just like in our Code Agent example. The only difference is the agent type - the framework handles everything else:"
   ]
  },
  {
   "cell_type": "code",
   "execution_count": 1,
   "metadata": {
    "colab": {
     "base_uri": "https://localhost:8080/",
     "height": 1000
    },
    "id": "6IInDOUN01sP",
    "outputId": "e49f2360-d377-4ed8-b7ae-8da4a3e3757b"
   },
   "outputs": [
    {
     "data": {
      "text/html": [
       "<pre style=\"white-space:pre;overflow-x:auto;line-height:normal;font-family:Menlo,'DejaVu Sans Mono',consolas,'Courier New',monospace\"><span style=\"color: #d4b702; text-decoration-color: #d4b702\">╭──────────────────────────────────────────────────── </span><span style=\"color: #d4b702; text-decoration-color: #d4b702; font-weight: bold\">New run</span><span style=\"color: #d4b702; text-decoration-color: #d4b702\"> ────────────────────────────────────────────────────╮</span>\n",
       "<span style=\"color: #d4b702; text-decoration-color: #d4b702\">│</span>                                                                                                                 <span style=\"color: #d4b702; text-decoration-color: #d4b702\">│</span>\n",
       "<span style=\"color: #d4b702; text-decoration-color: #d4b702\">│</span> <span style=\"font-weight: bold\">Search for the best music recommendations for a party at the Wayne's mansion.</span>                                   <span style=\"color: #d4b702; text-decoration-color: #d4b702\">│</span>\n",
       "<span style=\"color: #d4b702; text-decoration-color: #d4b702\">│</span>                                                                                                                 <span style=\"color: #d4b702; text-decoration-color: #d4b702\">│</span>\n",
       "<span style=\"color: #d4b702; text-decoration-color: #d4b702\">╰─ HfApiModel - Qwen/Qwen2.5-Coder-32B-Instruct ──────────────────────────────────────────────────────────────────╯</span>\n",
       "</pre>\n"
      ],
      "text/plain": [
       "\u001b[38;2;212;183;2m╭─\u001b[0m\u001b[38;2;212;183;2m───────────────────────────────────────────────────\u001b[0m\u001b[38;2;212;183;2m \u001b[0m\u001b[1;38;2;212;183;2mNew run\u001b[0m\u001b[38;2;212;183;2m \u001b[0m\u001b[38;2;212;183;2m───────────────────────────────────────────────────\u001b[0m\u001b[38;2;212;183;2m─╮\u001b[0m\n",
       "\u001b[38;2;212;183;2m│\u001b[0m                                                                                                                 \u001b[38;2;212;183;2m│\u001b[0m\n",
       "\u001b[38;2;212;183;2m│\u001b[0m \u001b[1mSearch for the best music recommendations for a party at the Wayne's mansion.\u001b[0m                                   \u001b[38;2;212;183;2m│\u001b[0m\n",
       "\u001b[38;2;212;183;2m│\u001b[0m                                                                                                                 \u001b[38;2;212;183;2m│\u001b[0m\n",
       "\u001b[38;2;212;183;2m╰─\u001b[0m\u001b[38;2;212;183;2m HfApiModel - Qwen/Qwen2.5-Coder-32B-Instruct \u001b[0m\u001b[38;2;212;183;2m─────────────────────────────────────────────────────────────────\u001b[0m\u001b[38;2;212;183;2m─╯\u001b[0m\n"
      ]
     },
     "metadata": {},
     "output_type": "display_data"
    },
    {
     "data": {
      "text/html": [
       "<pre style=\"white-space:pre;overflow-x:auto;line-height:normal;font-family:Menlo,'DejaVu Sans Mono',consolas,'Courier New',monospace\"><span style=\"color: #d4b702; text-decoration-color: #d4b702\">━━━━━━━━━━━━━━━━━━━━━━━━━━━━━━━━━━━━━━━━━━━━━━━━━━━━━ </span><span style=\"font-weight: bold\">Step </span><span style=\"color: #008080; text-decoration-color: #008080; font-weight: bold\">1</span><span style=\"color: #d4b702; text-decoration-color: #d4b702\"> ━━━━━━━━━━━━━━━━━━━━━━━━━━━━━━━━━━━━━━━━━━━━━━━━━━━━━━</span>\n",
       "</pre>\n"
      ],
      "text/plain": [
       "\u001b[38;2;212;183;2m━━━━━━━━━━━━━━━━━━━━━━━━━━━━━━━━━━━━━━━━━━━━━━━━━━━━━ \u001b[0m\u001b[1mStep \u001b[0m\u001b[1;36m1\u001b[0m\u001b[38;2;212;183;2m ━━━━━━━━━━━━━━━━━━━━━━━━━━━━━━━━━━━━━━━━━━━━━━━━━━━━━━\u001b[0m\n"
      ]
     },
     "metadata": {},
     "output_type": "display_data"
    },
    {
     "data": {
      "text/html": [
       "<pre style=\"white-space:pre;overflow-x:auto;line-height:normal;font-family:Menlo,'DejaVu Sans Mono',consolas,'Courier New',monospace\">╭─────────────────────────────────────────────────────────────────────────────────────────────────────────────────╮\n",
       "│ Calling tool: 'web_search' with arguments: {'query': \"best music recommendations for a party at Wayne's         │\n",
       "│ mansion\"}                                                                                                       │\n",
       "╰─────────────────────────────────────────────────────────────────────────────────────────────────────────────────╯\n",
       "</pre>\n"
      ],
      "text/plain": [
       "╭─────────────────────────────────────────────────────────────────────────────────────────────────────────────────╮\n",
       "│ Calling tool: 'web_search' with arguments: {'query': \"best music recommendations for a party at Wayne's         │\n",
       "│ mansion\"}                                                                                                       │\n",
       "╰─────────────────────────────────────────────────────────────────────────────────────────────────────────────────╯\n"
      ]
     },
     "metadata": {},
     "output_type": "display_data"
    },
    {
     "data": {
      "text/html": [
       "<pre style=\"white-space:pre;overflow-x:auto;line-height:normal;font-family:Menlo,'DejaVu Sans Mono',consolas,'Courier New',monospace\"><span style=\"color: #800000; text-decoration-color: #800000; font-weight: bold\">Error whene executing tool web_search with arguments {</span><span style=\"color: #800000; text-decoration-color: #800000; font-weight: bold\">'query'</span><span style=\"color: #800000; text-decoration-color: #800000; font-weight: bold\">: </span><span style=\"color: #800000; text-decoration-color: #800000; font-weight: bold\">\"best music recommendations for a party at Wayne's </span>\n",
       "<span style=\"color: #800000; text-decoration-color: #800000; font-weight: bold\">mansion\"</span><span style=\"color: #800000; text-decoration-color: #800000; font-weight: bold\">}: DuckDuckGoSearchException: </span><span style=\"color: #800000; text-decoration-color: #800000; font-weight: bold; text-decoration: underline\">https://html.duckduckgo.com/html</span><span style=\"color: #800000; text-decoration-color: #800000; font-weight: bold\"> RuntimeError: error sending request for url </span>\n",
       "<span style=\"color: #800000; text-decoration-color: #800000; font-weight: bold\">(</span><span style=\"color: #800000; text-decoration-color: #800000; font-weight: bold; text-decoration: underline\">https://html.duckduckgo.com/html):</span><span style=\"color: #800000; text-decoration-color: #800000; font-weight: bold\"> client error (Connect)</span>\n",
       "\n",
       "<span style=\"color: #800000; text-decoration-color: #800000; font-weight: bold\">Caused by:</span>\n",
       "<span style=\"color: #800000; text-decoration-color: #800000; font-weight: bold\">    </span><span style=\"color: #800000; text-decoration-color: #800000; font-weight: bold\">0</span><span style=\"color: #800000; text-decoration-color: #800000; font-weight: bold\">: client error (Connect)</span>\n",
       "<span style=\"color: #800000; text-decoration-color: #800000; font-weight: bold\">    </span><span style=\"color: #800000; text-decoration-color: #800000; font-weight: bold\">1</span><span style=\"color: #800000; text-decoration-color: #800000; font-weight: bold\">: TLS handshake failed: cert verification failed - unable to get local issuer certificate </span>\n",
       "<span style=\"color: #800000; text-decoration-color: #800000; font-weight: bold\">[CERTIFICATE_VERIFY_FAILED]</span>\n",
       "<span style=\"color: #800000; text-decoration-color: #800000; font-weight: bold\">    </span><span style=\"color: #800000; text-decoration-color: #800000; font-weight: bold\">2</span><span style=\"color: #800000; text-decoration-color: #800000; font-weight: bold\">: [CERTIFICATE_VERIFY_FAILED]</span>\n",
       "<span style=\"color: #800000; text-decoration-color: #800000; font-weight: bold\">    </span><span style=\"color: #800000; text-decoration-color: #800000; font-weight: bold\">3</span><span style=\"color: #800000; text-decoration-color: #800000; font-weight: bold\">: [CERTIFICATE_VERIFY_FAILED]</span>\n",
       "<span style=\"color: #800000; text-decoration-color: #800000; font-weight: bold\">You should only use this tool with a correct input.</span>\n",
       "<span style=\"color: #800000; text-decoration-color: #800000; font-weight: bold\">As a reminder, this tool's description is the following: </span><span style=\"color: #800000; text-decoration-color: #800000; font-weight: bold\">'Performs a duckduckgo web search based on your query </span>\n",
       "<span style=\"color: #800000; text-decoration-color: #800000; font-weight: bold\">(think a Google search) then returns the top search results.'</span><span style=\"color: #800000; text-decoration-color: #800000; font-weight: bold\">.</span>\n",
       "<span style=\"color: #800000; text-decoration-color: #800000; font-weight: bold\">It takes inputs: {</span><span style=\"color: #800000; text-decoration-color: #800000; font-weight: bold\">'query'</span><span style=\"color: #800000; text-decoration-color: #800000; font-weight: bold\">: {</span><span style=\"color: #800000; text-decoration-color: #800000; font-weight: bold\">'type'</span><span style=\"color: #800000; text-decoration-color: #800000; font-weight: bold\">: </span><span style=\"color: #800000; text-decoration-color: #800000; font-weight: bold\">'string'</span><span style=\"color: #800000; text-decoration-color: #800000; font-weight: bold\">, </span><span style=\"color: #800000; text-decoration-color: #800000; font-weight: bold\">'description'</span><span style=\"color: #800000; text-decoration-color: #800000; font-weight: bold\">: </span><span style=\"color: #800000; text-decoration-color: #800000; font-weight: bold\">'The search query to perform.'</span><span style=\"color: #800000; text-decoration-color: #800000; font-weight: bold\">}} and returns output </span>\n",
       "<span style=\"color: #800000; text-decoration-color: #800000; font-weight: bold\">type string</span>\n",
       "</pre>\n"
      ],
      "text/plain": [
       "\u001b[1;31mError whene executing tool web_search with arguments \u001b[0m\u001b[1;31m{\u001b[0m\u001b[1;31m'query'\u001b[0m\u001b[1;31m: \u001b[0m\u001b[1;31m\"best music recommendations for a party at Wayne's \u001b[0m\n",
       "\u001b[1;31mmansion\"\u001b[0m\u001b[1;31m}\u001b[0m\u001b[1;31m: DuckDuckGoSearchException: \u001b[0m\u001b[1;4;31mhttps://html.duckduckgo.com/html\u001b[0m\u001b[1;31m RuntimeError: error sending request for url \u001b[0m\n",
       "\u001b[1;31m(\u001b[0m\u001b[1;4;31mhttps://html.duckduckgo.com/html\u001b[0m\u001b[1;4;31m)\u001b[0m\u001b[1;4;31m:\u001b[0m\u001b[1;31m client error \u001b[0m\u001b[1;31m(\u001b[0m\u001b[1;31mConnect\u001b[0m\u001b[1;31m)\u001b[0m\n",
       "\n",
       "\u001b[1;31mCaused by:\u001b[0m\n",
       "\u001b[1;31m    \u001b[0m\u001b[1;31m0\u001b[0m\u001b[1;31m: client error \u001b[0m\u001b[1;31m(\u001b[0m\u001b[1;31mConnect\u001b[0m\u001b[1;31m)\u001b[0m\n",
       "\u001b[1;31m    \u001b[0m\u001b[1;31m1\u001b[0m\u001b[1;31m: TLS handshake failed: cert verification failed - unable to get local issuer certificate \u001b[0m\n",
       "\u001b[1;31m[\u001b[0m\u001b[1;31mCERTIFICATE_VERIFY_FAILED\u001b[0m\u001b[1;31m]\u001b[0m\n",
       "\u001b[1;31m    \u001b[0m\u001b[1;31m2\u001b[0m\u001b[1;31m: \u001b[0m\u001b[1;31m[\u001b[0m\u001b[1;31mCERTIFICATE_VERIFY_FAILED\u001b[0m\u001b[1;31m]\u001b[0m\n",
       "\u001b[1;31m    \u001b[0m\u001b[1;31m3\u001b[0m\u001b[1;31m: \u001b[0m\u001b[1;31m[\u001b[0m\u001b[1;31mCERTIFICATE_VERIFY_FAILED\u001b[0m\u001b[1;31m]\u001b[0m\n",
       "\u001b[1;31mYou should only use this tool with a correct input.\u001b[0m\n",
       "\u001b[1;31mAs a reminder, this tool's description is the following: \u001b[0m\u001b[1;31m'Performs a duckduckgo web search based on your query \u001b[0m\n",
       "\u001b[1;31m(\u001b[0m\u001b[1;31mthink a Google search\u001b[0m\u001b[1;31m)\u001b[0m\u001b[1;31m then returns the top search results.'\u001b[0m\u001b[1;31m.\u001b[0m\n",
       "\u001b[1;31mIt takes inputs: \u001b[0m\u001b[1;31m{\u001b[0m\u001b[1;31m'query'\u001b[0m\u001b[1;31m: \u001b[0m\u001b[1;31m{\u001b[0m\u001b[1;31m'type'\u001b[0m\u001b[1;31m: \u001b[0m\u001b[1;31m'string'\u001b[0m\u001b[1;31m, \u001b[0m\u001b[1;31m'description'\u001b[0m\u001b[1;31m: \u001b[0m\u001b[1;31m'The search query to perform.'\u001b[0m\u001b[1;31m}\u001b[0m\u001b[1;31m}\u001b[0m\u001b[1;31m and returns output \u001b[0m\n",
       "\u001b[1;31mtype string\u001b[0m\n"
      ]
     },
     "metadata": {},
     "output_type": "display_data"
    },
    {
     "data": {
      "text/html": [
       "<pre style=\"white-space:pre;overflow-x:auto;line-height:normal;font-family:Menlo,'DejaVu Sans Mono',consolas,'Courier New',monospace\"><span style=\"color: #7f7f7f; text-decoration-color: #7f7f7f\">[Step 0: Duration 1.40 seconds| Input tokens: 1,174 | Output tokens: 26]</span>\n",
       "</pre>\n"
      ],
      "text/plain": [
       "\u001b[2m[Step 0: Duration 1.40 seconds| Input tokens: 1,174 | Output tokens: 26]\u001b[0m\n"
      ]
     },
     "metadata": {},
     "output_type": "display_data"
    },
    {
     "data": {
      "text/html": [
       "<pre style=\"white-space:pre;overflow-x:auto;line-height:normal;font-family:Menlo,'DejaVu Sans Mono',consolas,'Courier New',monospace\"><span style=\"color: #d4b702; text-decoration-color: #d4b702\">━━━━━━━━━━━━━━━━━━━━━━━━━━━━━━━━━━━━━━━━━━━━━━━━━━━━━ </span><span style=\"font-weight: bold\">Step </span><span style=\"color: #008080; text-decoration-color: #008080; font-weight: bold\">2</span><span style=\"color: #d4b702; text-decoration-color: #d4b702\"> ━━━━━━━━━━━━━━━━━━━━━━━━━━━━━━━━━━━━━━━━━━━━━━━━━━━━━━</span>\n",
       "</pre>\n"
      ],
      "text/plain": [
       "\u001b[38;2;212;183;2m━━━━━━━━━━━━━━━━━━━━━━━━━━━━━━━━━━━━━━━━━━━━━━━━━━━━━ \u001b[0m\u001b[1mStep \u001b[0m\u001b[1;36m2\u001b[0m\u001b[38;2;212;183;2m ━━━━━━━━━━━━━━━━━━━━━━━━━━━━━━━━━━━━━━━━━━━━━━━━━━━━━━\u001b[0m\n"
      ]
     },
     "metadata": {},
     "output_type": "display_data"
    },
    {
     "data": {
      "text/html": [
       "<pre style=\"white-space:pre;overflow-x:auto;line-height:normal;font-family:Menlo,'DejaVu Sans Mono',consolas,'Courier New',monospace\">╭─────────────────────────────────────────────────────────────────────────────────────────────────────────────────╮\n",
       "│ Calling tool: 'web_search' with arguments: {'query': \"best music recommendations for a party at Wayne's mansion │\n",
       "│ in Gotham City\"}                                                                                                │\n",
       "╰─────────────────────────────────────────────────────────────────────────────────────────────────────────────────╯\n",
       "</pre>\n"
      ],
      "text/plain": [
       "╭─────────────────────────────────────────────────────────────────────────────────────────────────────────────────╮\n",
       "│ Calling tool: 'web_search' with arguments: {'query': \"best music recommendations for a party at Wayne's mansion │\n",
       "│ in Gotham City\"}                                                                                                │\n",
       "╰─────────────────────────────────────────────────────────────────────────────────────────────────────────────────╯\n"
      ]
     },
     "metadata": {},
     "output_type": "display_data"
    },
    {
     "data": {
      "text/html": [
       "<pre style=\"white-space:pre;overflow-x:auto;line-height:normal;font-family:Menlo,'DejaVu Sans Mono',consolas,'Courier New',monospace\"><span style=\"color: #800000; text-decoration-color: #800000; font-weight: bold\">Error whene executing tool web_search with arguments {</span><span style=\"color: #800000; text-decoration-color: #800000; font-weight: bold\">'query'</span><span style=\"color: #800000; text-decoration-color: #800000; font-weight: bold\">: </span><span style=\"color: #800000; text-decoration-color: #800000; font-weight: bold\">\"best music recommendations for a party at Wayne's </span>\n",
       "<span style=\"color: #800000; text-decoration-color: #800000; font-weight: bold\">mansion in Gotham City\"</span><span style=\"color: #800000; text-decoration-color: #800000; font-weight: bold\">}: DuckDuckGoSearchException: </span><span style=\"color: #800000; text-decoration-color: #800000; font-weight: bold; text-decoration: underline\">https://lite.duckduckgo.com/lite/</span><span style=\"color: #800000; text-decoration-color: #800000; font-weight: bold\"> RuntimeError: error sending </span>\n",
       "<span style=\"color: #800000; text-decoration-color: #800000; font-weight: bold\">request for url (</span><span style=\"color: #800000; text-decoration-color: #800000; font-weight: bold; text-decoration: underline\">https://lite.duckduckgo.com/lite/):</span><span style=\"color: #800000; text-decoration-color: #800000; font-weight: bold\"> client error (Connect)</span>\n",
       "\n",
       "<span style=\"color: #800000; text-decoration-color: #800000; font-weight: bold\">Caused by:</span>\n",
       "<span style=\"color: #800000; text-decoration-color: #800000; font-weight: bold\">    </span><span style=\"color: #800000; text-decoration-color: #800000; font-weight: bold\">0</span><span style=\"color: #800000; text-decoration-color: #800000; font-weight: bold\">: client error (Connect)</span>\n",
       "<span style=\"color: #800000; text-decoration-color: #800000; font-weight: bold\">    </span><span style=\"color: #800000; text-decoration-color: #800000; font-weight: bold\">1</span><span style=\"color: #800000; text-decoration-color: #800000; font-weight: bold\">: TLS handshake failed: cert verification failed - unable to get local issuer certificate </span>\n",
       "<span style=\"color: #800000; text-decoration-color: #800000; font-weight: bold\">[CERTIFICATE_VERIFY_FAILED]</span>\n",
       "<span style=\"color: #800000; text-decoration-color: #800000; font-weight: bold\">    </span><span style=\"color: #800000; text-decoration-color: #800000; font-weight: bold\">2</span><span style=\"color: #800000; text-decoration-color: #800000; font-weight: bold\">: [CERTIFICATE_VERIFY_FAILED]</span>\n",
       "<span style=\"color: #800000; text-decoration-color: #800000; font-weight: bold\">    </span><span style=\"color: #800000; text-decoration-color: #800000; font-weight: bold\">3</span><span style=\"color: #800000; text-decoration-color: #800000; font-weight: bold\">: [CERTIFICATE_VERIFY_FAILED]</span>\n",
       "<span style=\"color: #800000; text-decoration-color: #800000; font-weight: bold\">You should only use this tool with a correct input.</span>\n",
       "<span style=\"color: #800000; text-decoration-color: #800000; font-weight: bold\">As a reminder, this tool's description is the following: </span><span style=\"color: #800000; text-decoration-color: #800000; font-weight: bold\">'Performs a duckduckgo web search based on your query </span>\n",
       "<span style=\"color: #800000; text-decoration-color: #800000; font-weight: bold\">(think a Google search) then returns the top search results.'</span><span style=\"color: #800000; text-decoration-color: #800000; font-weight: bold\">.</span>\n",
       "<span style=\"color: #800000; text-decoration-color: #800000; font-weight: bold\">It takes inputs: {</span><span style=\"color: #800000; text-decoration-color: #800000; font-weight: bold\">'query'</span><span style=\"color: #800000; text-decoration-color: #800000; font-weight: bold\">: {</span><span style=\"color: #800000; text-decoration-color: #800000; font-weight: bold\">'type'</span><span style=\"color: #800000; text-decoration-color: #800000; font-weight: bold\">: </span><span style=\"color: #800000; text-decoration-color: #800000; font-weight: bold\">'string'</span><span style=\"color: #800000; text-decoration-color: #800000; font-weight: bold\">, </span><span style=\"color: #800000; text-decoration-color: #800000; font-weight: bold\">'description'</span><span style=\"color: #800000; text-decoration-color: #800000; font-weight: bold\">: </span><span style=\"color: #800000; text-decoration-color: #800000; font-weight: bold\">'The search query to perform.'</span><span style=\"color: #800000; text-decoration-color: #800000; font-weight: bold\">}} and returns output </span>\n",
       "<span style=\"color: #800000; text-decoration-color: #800000; font-weight: bold\">type string</span>\n",
       "</pre>\n"
      ],
      "text/plain": [
       "\u001b[1;31mError whene executing tool web_search with arguments \u001b[0m\u001b[1;31m{\u001b[0m\u001b[1;31m'query'\u001b[0m\u001b[1;31m: \u001b[0m\u001b[1;31m\"best music recommendations for a party at Wayne's \u001b[0m\n",
       "\u001b[1;31mmansion in Gotham City\"\u001b[0m\u001b[1;31m}\u001b[0m\u001b[1;31m: DuckDuckGoSearchException: \u001b[0m\u001b[1;4;31mhttps://lite.duckduckgo.com/lite/\u001b[0m\u001b[1;31m RuntimeError: error sending \u001b[0m\n",
       "\u001b[1;31mrequest for url \u001b[0m\u001b[1;31m(\u001b[0m\u001b[1;4;31mhttps://lite.duckduckgo.com/lite/\u001b[0m\u001b[1;4;31m)\u001b[0m\u001b[1;4;31m:\u001b[0m\u001b[1;31m client error \u001b[0m\u001b[1;31m(\u001b[0m\u001b[1;31mConnect\u001b[0m\u001b[1;31m)\u001b[0m\n",
       "\n",
       "\u001b[1;31mCaused by:\u001b[0m\n",
       "\u001b[1;31m    \u001b[0m\u001b[1;31m0\u001b[0m\u001b[1;31m: client error \u001b[0m\u001b[1;31m(\u001b[0m\u001b[1;31mConnect\u001b[0m\u001b[1;31m)\u001b[0m\n",
       "\u001b[1;31m    \u001b[0m\u001b[1;31m1\u001b[0m\u001b[1;31m: TLS handshake failed: cert verification failed - unable to get local issuer certificate \u001b[0m\n",
       "\u001b[1;31m[\u001b[0m\u001b[1;31mCERTIFICATE_VERIFY_FAILED\u001b[0m\u001b[1;31m]\u001b[0m\n",
       "\u001b[1;31m    \u001b[0m\u001b[1;31m2\u001b[0m\u001b[1;31m: \u001b[0m\u001b[1;31m[\u001b[0m\u001b[1;31mCERTIFICATE_VERIFY_FAILED\u001b[0m\u001b[1;31m]\u001b[0m\n",
       "\u001b[1;31m    \u001b[0m\u001b[1;31m3\u001b[0m\u001b[1;31m: \u001b[0m\u001b[1;31m[\u001b[0m\u001b[1;31mCERTIFICATE_VERIFY_FAILED\u001b[0m\u001b[1;31m]\u001b[0m\n",
       "\u001b[1;31mYou should only use this tool with a correct input.\u001b[0m\n",
       "\u001b[1;31mAs a reminder, this tool's description is the following: \u001b[0m\u001b[1;31m'Performs a duckduckgo web search based on your query \u001b[0m\n",
       "\u001b[1;31m(\u001b[0m\u001b[1;31mthink a Google search\u001b[0m\u001b[1;31m)\u001b[0m\u001b[1;31m then returns the top search results.'\u001b[0m\u001b[1;31m.\u001b[0m\n",
       "\u001b[1;31mIt takes inputs: \u001b[0m\u001b[1;31m{\u001b[0m\u001b[1;31m'query'\u001b[0m\u001b[1;31m: \u001b[0m\u001b[1;31m{\u001b[0m\u001b[1;31m'type'\u001b[0m\u001b[1;31m: \u001b[0m\u001b[1;31m'string'\u001b[0m\u001b[1;31m, \u001b[0m\u001b[1;31m'description'\u001b[0m\u001b[1;31m: \u001b[0m\u001b[1;31m'The search query to perform.'\u001b[0m\u001b[1;31m}\u001b[0m\u001b[1;31m}\u001b[0m\u001b[1;31m and returns output \u001b[0m\n",
       "\u001b[1;31mtype string\u001b[0m\n"
      ]
     },
     "metadata": {},
     "output_type": "display_data"
    },
    {
     "data": {
      "text/html": [
       "<pre style=\"white-space:pre;overflow-x:auto;line-height:normal;font-family:Menlo,'DejaVu Sans Mono',consolas,'Courier New',monospace\"><span style=\"color: #7f7f7f; text-decoration-color: #7f7f7f\">[Step 1: Duration 4.46 seconds| Input tokens: 2,639 | Output tokens: 55]</span>\n",
       "</pre>\n"
      ],
      "text/plain": [
       "\u001b[2m[Step 1: Duration 4.46 seconds| Input tokens: 2,639 | Output tokens: 55]\u001b[0m\n"
      ]
     },
     "metadata": {},
     "output_type": "display_data"
    },
    {
     "data": {
      "text/html": [
       "<pre style=\"white-space:pre;overflow-x:auto;line-height:normal;font-family:Menlo,'DejaVu Sans Mono',consolas,'Courier New',monospace\"><span style=\"color: #d4b702; text-decoration-color: #d4b702\">━━━━━━━━━━━━━━━━━━━━━━━━━━━━━━━━━━━━━━━━━━━━━━━━━━━━━ </span><span style=\"font-weight: bold\">Step </span><span style=\"color: #008080; text-decoration-color: #008080; font-weight: bold\">3</span><span style=\"color: #d4b702; text-decoration-color: #d4b702\"> ━━━━━━━━━━━━━━━━━━━━━━━━━━━━━━━━━━━━━━━━━━━━━━━━━━━━━━</span>\n",
       "</pre>\n"
      ],
      "text/plain": [
       "\u001b[38;2;212;183;2m━━━━━━━━━━━━━━━━━━━━━━━━━━━━━━━━━━━━━━━━━━━━━━━━━━━━━ \u001b[0m\u001b[1mStep \u001b[0m\u001b[1;36m3\u001b[0m\u001b[38;2;212;183;2m ━━━━━━━━━━━━━━━━━━━━━━━━━━━━━━━━━━━━━━━━━━━━━━━━━━━━━━\u001b[0m\n"
      ]
     },
     "metadata": {},
     "output_type": "display_data"
    },
    {
     "data": {
      "text/html": [
       "<pre style=\"white-space:pre;overflow-x:auto;line-height:normal;font-family:Menlo,'DejaVu Sans Mono',consolas,'Courier New',monospace\">╭─────────────────────────────────────────────────────────────────────────────────────────────────────────────────╮\n",
       "│ Calling tool: 'web_search' with arguments: {'query': 'best music recommendations for a party in a mansion style │\n",
       "│ setting in Gotham City'}                                                                                        │\n",
       "╰─────────────────────────────────────────────────────────────────────────────────────────────────────────────────╯\n",
       "</pre>\n"
      ],
      "text/plain": [
       "╭─────────────────────────────────────────────────────────────────────────────────────────────────────────────────╮\n",
       "│ Calling tool: 'web_search' with arguments: {'query': 'best music recommendations for a party in a mansion style │\n",
       "│ setting in Gotham City'}                                                                                        │\n",
       "╰─────────────────────────────────────────────────────────────────────────────────────────────────────────────────╯\n"
      ]
     },
     "metadata": {},
     "output_type": "display_data"
    },
    {
     "data": {
      "text/html": [
       "<pre style=\"white-space:pre;overflow-x:auto;line-height:normal;font-family:Menlo,'DejaVu Sans Mono',consolas,'Courier New',monospace\"><span style=\"color: #800000; text-decoration-color: #800000; font-weight: bold\">Error whene executing tool web_search with arguments {</span><span style=\"color: #800000; text-decoration-color: #800000; font-weight: bold\">'query'</span><span style=\"color: #800000; text-decoration-color: #800000; font-weight: bold\">: </span><span style=\"color: #800000; text-decoration-color: #800000; font-weight: bold\">'best music recommendations for a party in a mansion</span>\n",
       "<span style=\"color: #800000; text-decoration-color: #800000; font-weight: bold\">style setting in Gotham City'</span><span style=\"color: #800000; text-decoration-color: #800000; font-weight: bold\">}: DuckDuckGoSearchException: </span><span style=\"color: #800000; text-decoration-color: #800000; font-weight: bold; text-decoration: underline\">https://lite.duckduckgo.com/lite/</span><span style=\"color: #800000; text-decoration-color: #800000; font-weight: bold\"> RuntimeError: error </span>\n",
       "<span style=\"color: #800000; text-decoration-color: #800000; font-weight: bold\">sending request for url (</span><span style=\"color: #800000; text-decoration-color: #800000; font-weight: bold; text-decoration: underline\">https://lite.duckduckgo.com/lite/):</span><span style=\"color: #800000; text-decoration-color: #800000; font-weight: bold\"> client error (Connect)</span>\n",
       "\n",
       "<span style=\"color: #800000; text-decoration-color: #800000; font-weight: bold\">Caused by:</span>\n",
       "<span style=\"color: #800000; text-decoration-color: #800000; font-weight: bold\">    </span><span style=\"color: #800000; text-decoration-color: #800000; font-weight: bold\">0</span><span style=\"color: #800000; text-decoration-color: #800000; font-weight: bold\">: client error (Connect)</span>\n",
       "<span style=\"color: #800000; text-decoration-color: #800000; font-weight: bold\">    </span><span style=\"color: #800000; text-decoration-color: #800000; font-weight: bold\">1</span><span style=\"color: #800000; text-decoration-color: #800000; font-weight: bold\">: TLS handshake failed: cert verification failed - unable to get local issuer certificate </span>\n",
       "<span style=\"color: #800000; text-decoration-color: #800000; font-weight: bold\">[CERTIFICATE_VERIFY_FAILED]</span>\n",
       "<span style=\"color: #800000; text-decoration-color: #800000; font-weight: bold\">    </span><span style=\"color: #800000; text-decoration-color: #800000; font-weight: bold\">2</span><span style=\"color: #800000; text-decoration-color: #800000; font-weight: bold\">: [CERTIFICATE_VERIFY_FAILED]</span>\n",
       "<span style=\"color: #800000; text-decoration-color: #800000; font-weight: bold\">    </span><span style=\"color: #800000; text-decoration-color: #800000; font-weight: bold\">3</span><span style=\"color: #800000; text-decoration-color: #800000; font-weight: bold\">: [CERTIFICATE_VERIFY_FAILED]</span>\n",
       "<span style=\"color: #800000; text-decoration-color: #800000; font-weight: bold\">You should only use this tool with a correct input.</span>\n",
       "<span style=\"color: #800000; text-decoration-color: #800000; font-weight: bold\">As a reminder, this tool's description is the following: </span><span style=\"color: #800000; text-decoration-color: #800000; font-weight: bold\">'Performs a duckduckgo web search based on your query </span>\n",
       "<span style=\"color: #800000; text-decoration-color: #800000; font-weight: bold\">(think a Google search) then returns the top search results.'</span><span style=\"color: #800000; text-decoration-color: #800000; font-weight: bold\">.</span>\n",
       "<span style=\"color: #800000; text-decoration-color: #800000; font-weight: bold\">It takes inputs: {</span><span style=\"color: #800000; text-decoration-color: #800000; font-weight: bold\">'query'</span><span style=\"color: #800000; text-decoration-color: #800000; font-weight: bold\">: {</span><span style=\"color: #800000; text-decoration-color: #800000; font-weight: bold\">'type'</span><span style=\"color: #800000; text-decoration-color: #800000; font-weight: bold\">: </span><span style=\"color: #800000; text-decoration-color: #800000; font-weight: bold\">'string'</span><span style=\"color: #800000; text-decoration-color: #800000; font-weight: bold\">, </span><span style=\"color: #800000; text-decoration-color: #800000; font-weight: bold\">'description'</span><span style=\"color: #800000; text-decoration-color: #800000; font-weight: bold\">: </span><span style=\"color: #800000; text-decoration-color: #800000; font-weight: bold\">'The search query to perform.'</span><span style=\"color: #800000; text-decoration-color: #800000; font-weight: bold\">}} and returns output </span>\n",
       "<span style=\"color: #800000; text-decoration-color: #800000; font-weight: bold\">type string</span>\n",
       "</pre>\n"
      ],
      "text/plain": [
       "\u001b[1;31mError whene executing tool web_search with arguments \u001b[0m\u001b[1;31m{\u001b[0m\u001b[1;31m'query'\u001b[0m\u001b[1;31m: \u001b[0m\u001b[1;31m'best music recommendations for a party in a mansion\u001b[0m\n",
       "\u001b[1;31mstyle setting in Gotham City'\u001b[0m\u001b[1;31m}\u001b[0m\u001b[1;31m: DuckDuckGoSearchException: \u001b[0m\u001b[1;4;31mhttps://lite.duckduckgo.com/lite/\u001b[0m\u001b[1;31m RuntimeError: error \u001b[0m\n",
       "\u001b[1;31msending request for url \u001b[0m\u001b[1;31m(\u001b[0m\u001b[1;4;31mhttps://lite.duckduckgo.com/lite/\u001b[0m\u001b[1;4;31m)\u001b[0m\u001b[1;4;31m:\u001b[0m\u001b[1;31m client error \u001b[0m\u001b[1;31m(\u001b[0m\u001b[1;31mConnect\u001b[0m\u001b[1;31m)\u001b[0m\n",
       "\n",
       "\u001b[1;31mCaused by:\u001b[0m\n",
       "\u001b[1;31m    \u001b[0m\u001b[1;31m0\u001b[0m\u001b[1;31m: client error \u001b[0m\u001b[1;31m(\u001b[0m\u001b[1;31mConnect\u001b[0m\u001b[1;31m)\u001b[0m\n",
       "\u001b[1;31m    \u001b[0m\u001b[1;31m1\u001b[0m\u001b[1;31m: TLS handshake failed: cert verification failed - unable to get local issuer certificate \u001b[0m\n",
       "\u001b[1;31m[\u001b[0m\u001b[1;31mCERTIFICATE_VERIFY_FAILED\u001b[0m\u001b[1;31m]\u001b[0m\n",
       "\u001b[1;31m    \u001b[0m\u001b[1;31m2\u001b[0m\u001b[1;31m: \u001b[0m\u001b[1;31m[\u001b[0m\u001b[1;31mCERTIFICATE_VERIFY_FAILED\u001b[0m\u001b[1;31m]\u001b[0m\n",
       "\u001b[1;31m    \u001b[0m\u001b[1;31m3\u001b[0m\u001b[1;31m: \u001b[0m\u001b[1;31m[\u001b[0m\u001b[1;31mCERTIFICATE_VERIFY_FAILED\u001b[0m\u001b[1;31m]\u001b[0m\n",
       "\u001b[1;31mYou should only use this tool with a correct input.\u001b[0m\n",
       "\u001b[1;31mAs a reminder, this tool's description is the following: \u001b[0m\u001b[1;31m'Performs a duckduckgo web search based on your query \u001b[0m\n",
       "\u001b[1;31m(\u001b[0m\u001b[1;31mthink a Google search\u001b[0m\u001b[1;31m)\u001b[0m\u001b[1;31m then returns the top search results.'\u001b[0m\u001b[1;31m.\u001b[0m\n",
       "\u001b[1;31mIt takes inputs: \u001b[0m\u001b[1;31m{\u001b[0m\u001b[1;31m'query'\u001b[0m\u001b[1;31m: \u001b[0m\u001b[1;31m{\u001b[0m\u001b[1;31m'type'\u001b[0m\u001b[1;31m: \u001b[0m\u001b[1;31m'string'\u001b[0m\u001b[1;31m, \u001b[0m\u001b[1;31m'description'\u001b[0m\u001b[1;31m: \u001b[0m\u001b[1;31m'The search query to perform.'\u001b[0m\u001b[1;31m}\u001b[0m\u001b[1;31m}\u001b[0m\u001b[1;31m and returns output \u001b[0m\n",
       "\u001b[1;31mtype string\u001b[0m\n"
      ]
     },
     "metadata": {},
     "output_type": "display_data"
    },
    {
     "data": {
      "text/html": [
       "<pre style=\"white-space:pre;overflow-x:auto;line-height:normal;font-family:Menlo,'DejaVu Sans Mono',consolas,'Courier New',monospace\"><span style=\"color: #7f7f7f; text-decoration-color: #7f7f7f\">[Step 2: Duration 5.12 seconds| Input tokens: 4,405 | Output tokens: 87]</span>\n",
       "</pre>\n"
      ],
      "text/plain": [
       "\u001b[2m[Step 2: Duration 5.12 seconds| Input tokens: 4,405 | Output tokens: 87]\u001b[0m\n"
      ]
     },
     "metadata": {},
     "output_type": "display_data"
    },
    {
     "data": {
      "text/html": [
       "<pre style=\"white-space:pre;overflow-x:auto;line-height:normal;font-family:Menlo,'DejaVu Sans Mono',consolas,'Courier New',monospace\"><span style=\"color: #d4b702; text-decoration-color: #d4b702\">━━━━━━━━━━━━━━━━━━━━━━━━━━━━━━━━━━━━━━━━━━━━━━━━━━━━━ </span><span style=\"font-weight: bold\">Step </span><span style=\"color: #008080; text-decoration-color: #008080; font-weight: bold\">4</span><span style=\"color: #d4b702; text-decoration-color: #d4b702\"> ━━━━━━━━━━━━━━━━━━━━━━━━━━━━━━━━━━━━━━━━━━━━━━━━━━━━━━</span>\n",
       "</pre>\n"
      ],
      "text/plain": [
       "\u001b[38;2;212;183;2m━━━━━━━━━━━━━━━━━━━━━━━━━━━━━━━━━━━━━━━━━━━━━━━━━━━━━ \u001b[0m\u001b[1mStep \u001b[0m\u001b[1;36m4\u001b[0m\u001b[38;2;212;183;2m ━━━━━━━━━━━━━━━━━━━━━━━━━━━━━━━━━━━━━━━━━━━━━━━━━━━━━━\u001b[0m\n"
      ]
     },
     "metadata": {},
     "output_type": "display_data"
    },
    {
     "data": {
      "text/html": [
       "<pre style=\"white-space:pre;overflow-x:auto;line-height:normal;font-family:Menlo,'DejaVu Sans Mono',consolas,'Courier New',monospace\">╭─────────────────────────────────────────────────────────────────────────────────────────────────────────────────╮\n",
       "│ Calling tool: 'web_search' with arguments: {'query': 'best music recommendations for a Gotham City mansion      │\n",
       "│ party'}                                                                                                         │\n",
       "╰─────────────────────────────────────────────────────────────────────────────────────────────────────────────────╯\n",
       "</pre>\n"
      ],
      "text/plain": [
       "╭─────────────────────────────────────────────────────────────────────────────────────────────────────────────────╮\n",
       "│ Calling tool: 'web_search' with arguments: {'query': 'best music recommendations for a Gotham City mansion      │\n",
       "│ party'}                                                                                                         │\n",
       "╰─────────────────────────────────────────────────────────────────────────────────────────────────────────────────╯\n"
      ]
     },
     "metadata": {},
     "output_type": "display_data"
    },
    {
     "data": {
      "text/html": [
       "<pre style=\"white-space:pre;overflow-x:auto;line-height:normal;font-family:Menlo,'DejaVu Sans Mono',consolas,'Courier New',monospace\"><span style=\"color: #800000; text-decoration-color: #800000; font-weight: bold\">Error whene executing tool web_search with arguments {</span><span style=\"color: #800000; text-decoration-color: #800000; font-weight: bold\">'query'</span><span style=\"color: #800000; text-decoration-color: #800000; font-weight: bold\">: </span><span style=\"color: #800000; text-decoration-color: #800000; font-weight: bold\">'best music recommendations for a Gotham City </span>\n",
       "<span style=\"color: #800000; text-decoration-color: #800000; font-weight: bold\">mansion party'</span><span style=\"color: #800000; text-decoration-color: #800000; font-weight: bold\">}: DuckDuckGoSearchException: </span><span style=\"color: #800000; text-decoration-color: #800000; font-weight: bold; text-decoration: underline\">https://lite.duckduckgo.com/lite/</span><span style=\"color: #800000; text-decoration-color: #800000; font-weight: bold\"> RuntimeError: error sending request </span>\n",
       "<span style=\"color: #800000; text-decoration-color: #800000; font-weight: bold\">for url (</span><span style=\"color: #800000; text-decoration-color: #800000; font-weight: bold; text-decoration: underline\">https://lite.duckduckgo.com/lite/):</span><span style=\"color: #800000; text-decoration-color: #800000; font-weight: bold\"> client error (Connect)</span>\n",
       "\n",
       "<span style=\"color: #800000; text-decoration-color: #800000; font-weight: bold\">Caused by:</span>\n",
       "<span style=\"color: #800000; text-decoration-color: #800000; font-weight: bold\">    </span><span style=\"color: #800000; text-decoration-color: #800000; font-weight: bold\">0</span><span style=\"color: #800000; text-decoration-color: #800000; font-weight: bold\">: client error (Connect)</span>\n",
       "<span style=\"color: #800000; text-decoration-color: #800000; font-weight: bold\">    </span><span style=\"color: #800000; text-decoration-color: #800000; font-weight: bold\">1</span><span style=\"color: #800000; text-decoration-color: #800000; font-weight: bold\">: TLS handshake failed: cert verification failed - unable to get local issuer certificate </span>\n",
       "<span style=\"color: #800000; text-decoration-color: #800000; font-weight: bold\">[CERTIFICATE_VERIFY_FAILED]</span>\n",
       "<span style=\"color: #800000; text-decoration-color: #800000; font-weight: bold\">    </span><span style=\"color: #800000; text-decoration-color: #800000; font-weight: bold\">2</span><span style=\"color: #800000; text-decoration-color: #800000; font-weight: bold\">: [CERTIFICATE_VERIFY_FAILED]</span>\n",
       "<span style=\"color: #800000; text-decoration-color: #800000; font-weight: bold\">    </span><span style=\"color: #800000; text-decoration-color: #800000; font-weight: bold\">3</span><span style=\"color: #800000; text-decoration-color: #800000; font-weight: bold\">: [CERTIFICATE_VERIFY_FAILED]</span>\n",
       "<span style=\"color: #800000; text-decoration-color: #800000; font-weight: bold\">You should only use this tool with a correct input.</span>\n",
       "<span style=\"color: #800000; text-decoration-color: #800000; font-weight: bold\">As a reminder, this tool's description is the following: </span><span style=\"color: #800000; text-decoration-color: #800000; font-weight: bold\">'Performs a duckduckgo web search based on your query </span>\n",
       "<span style=\"color: #800000; text-decoration-color: #800000; font-weight: bold\">(think a Google search) then returns the top search results.'</span><span style=\"color: #800000; text-decoration-color: #800000; font-weight: bold\">.</span>\n",
       "<span style=\"color: #800000; text-decoration-color: #800000; font-weight: bold\">It takes inputs: {</span><span style=\"color: #800000; text-decoration-color: #800000; font-weight: bold\">'query'</span><span style=\"color: #800000; text-decoration-color: #800000; font-weight: bold\">: {</span><span style=\"color: #800000; text-decoration-color: #800000; font-weight: bold\">'type'</span><span style=\"color: #800000; text-decoration-color: #800000; font-weight: bold\">: </span><span style=\"color: #800000; text-decoration-color: #800000; font-weight: bold\">'string'</span><span style=\"color: #800000; text-decoration-color: #800000; font-weight: bold\">, </span><span style=\"color: #800000; text-decoration-color: #800000; font-weight: bold\">'description'</span><span style=\"color: #800000; text-decoration-color: #800000; font-weight: bold\">: </span><span style=\"color: #800000; text-decoration-color: #800000; font-weight: bold\">'The search query to perform.'</span><span style=\"color: #800000; text-decoration-color: #800000; font-weight: bold\">}} and returns output </span>\n",
       "<span style=\"color: #800000; text-decoration-color: #800000; font-weight: bold\">type string</span>\n",
       "</pre>\n"
      ],
      "text/plain": [
       "\u001b[1;31mError whene executing tool web_search with arguments \u001b[0m\u001b[1;31m{\u001b[0m\u001b[1;31m'query'\u001b[0m\u001b[1;31m: \u001b[0m\u001b[1;31m'best music recommendations for a Gotham City \u001b[0m\n",
       "\u001b[1;31mmansion party'\u001b[0m\u001b[1;31m}\u001b[0m\u001b[1;31m: DuckDuckGoSearchException: \u001b[0m\u001b[1;4;31mhttps://lite.duckduckgo.com/lite/\u001b[0m\u001b[1;31m RuntimeError: error sending request \u001b[0m\n",
       "\u001b[1;31mfor url \u001b[0m\u001b[1;31m(\u001b[0m\u001b[1;4;31mhttps://lite.duckduckgo.com/lite/\u001b[0m\u001b[1;4;31m)\u001b[0m\u001b[1;4;31m:\u001b[0m\u001b[1;31m client error \u001b[0m\u001b[1;31m(\u001b[0m\u001b[1;31mConnect\u001b[0m\u001b[1;31m)\u001b[0m\n",
       "\n",
       "\u001b[1;31mCaused by:\u001b[0m\n",
       "\u001b[1;31m    \u001b[0m\u001b[1;31m0\u001b[0m\u001b[1;31m: client error \u001b[0m\u001b[1;31m(\u001b[0m\u001b[1;31mConnect\u001b[0m\u001b[1;31m)\u001b[0m\n",
       "\u001b[1;31m    \u001b[0m\u001b[1;31m1\u001b[0m\u001b[1;31m: TLS handshake failed: cert verification failed - unable to get local issuer certificate \u001b[0m\n",
       "\u001b[1;31m[\u001b[0m\u001b[1;31mCERTIFICATE_VERIFY_FAILED\u001b[0m\u001b[1;31m]\u001b[0m\n",
       "\u001b[1;31m    \u001b[0m\u001b[1;31m2\u001b[0m\u001b[1;31m: \u001b[0m\u001b[1;31m[\u001b[0m\u001b[1;31mCERTIFICATE_VERIFY_FAILED\u001b[0m\u001b[1;31m]\u001b[0m\n",
       "\u001b[1;31m    \u001b[0m\u001b[1;31m3\u001b[0m\u001b[1;31m: \u001b[0m\u001b[1;31m[\u001b[0m\u001b[1;31mCERTIFICATE_VERIFY_FAILED\u001b[0m\u001b[1;31m]\u001b[0m\n",
       "\u001b[1;31mYou should only use this tool with a correct input.\u001b[0m\n",
       "\u001b[1;31mAs a reminder, this tool's description is the following: \u001b[0m\u001b[1;31m'Performs a duckduckgo web search based on your query \u001b[0m\n",
       "\u001b[1;31m(\u001b[0m\u001b[1;31mthink a Google search\u001b[0m\u001b[1;31m)\u001b[0m\u001b[1;31m then returns the top search results.'\u001b[0m\u001b[1;31m.\u001b[0m\n",
       "\u001b[1;31mIt takes inputs: \u001b[0m\u001b[1;31m{\u001b[0m\u001b[1;31m'query'\u001b[0m\u001b[1;31m: \u001b[0m\u001b[1;31m{\u001b[0m\u001b[1;31m'type'\u001b[0m\u001b[1;31m: \u001b[0m\u001b[1;31m'string'\u001b[0m\u001b[1;31m, \u001b[0m\u001b[1;31m'description'\u001b[0m\u001b[1;31m: \u001b[0m\u001b[1;31m'The search query to perform.'\u001b[0m\u001b[1;31m}\u001b[0m\u001b[1;31m}\u001b[0m\u001b[1;31m and returns output \u001b[0m\n",
       "\u001b[1;31mtype string\u001b[0m\n"
      ]
     },
     "metadata": {},
     "output_type": "display_data"
    },
    {
     "data": {
      "text/html": [
       "<pre style=\"white-space:pre;overflow-x:auto;line-height:normal;font-family:Menlo,'DejaVu Sans Mono',consolas,'Courier New',monospace\"><span style=\"color: #7f7f7f; text-decoration-color: #7f7f7f\">[Step 3: Duration 8.15 seconds| Input tokens: 6,474 | Output tokens: 116]</span>\n",
       "</pre>\n"
      ],
      "text/plain": [
       "\u001b[2m[Step 3: Duration 8.15 seconds| Input tokens: 6,474 | Output tokens: 116]\u001b[0m\n"
      ]
     },
     "metadata": {},
     "output_type": "display_data"
    },
    {
     "data": {
      "text/html": [
       "<pre style=\"white-space:pre;overflow-x:auto;line-height:normal;font-family:Menlo,'DejaVu Sans Mono',consolas,'Courier New',monospace\"><span style=\"color: #d4b702; text-decoration-color: #d4b702\">━━━━━━━━━━━━━━━━━━━━━━━━━━━━━━━━━━━━━━━━━━━━━━━━━━━━━ </span><span style=\"font-weight: bold\">Step </span><span style=\"color: #008080; text-decoration-color: #008080; font-weight: bold\">5</span><span style=\"color: #d4b702; text-decoration-color: #d4b702\"> ━━━━━━━━━━━━━━━━━━━━━━━━━━━━━━━━━━━━━━━━━━━━━━━━━━━━━━</span>\n",
       "</pre>\n"
      ],
      "text/plain": [
       "\u001b[38;2;212;183;2m━━━━━━━━━━━━━━━━━━━━━━━━━━━━━━━━━━━━━━━━━━━━━━━━━━━━━ \u001b[0m\u001b[1mStep \u001b[0m\u001b[1;36m5\u001b[0m\u001b[38;2;212;183;2m ━━━━━━━━━━━━━━━━━━━━━━━━━━━━━━━━━━━━━━━━━━━━━━━━━━━━━━\u001b[0m\n"
      ]
     },
     "metadata": {},
     "output_type": "display_data"
    },
    {
     "data": {
      "text/html": [
       "<pre style=\"white-space:pre;overflow-x:auto;line-height:normal;font-family:Menlo,'DejaVu Sans Mono',consolas,'Courier New',monospace\">╭─────────────────────────────────────────────────────────────────────────────────────────────────────────────────╮\n",
       "│ Calling tool: 'final_answer' with arguments: {'answer': \"Given the recurring issues with the web search tool, I │\n",
       "│ will provide a recommendation based on common music genres for a high-end mansion party in a Gotham City style  │\n",
       "│ setting. You might consider a mix of orchestral music, jazz, and dark, moody songs, along with some classic     │\n",
       "│ rock and gothic-inspired tracks. Some specific recommendations could include composers like Rachmaninoff or     │\n",
       "│ Tchaikovsky, jazz bands, and modern pieces by composers who lean towards dark and dramatic styles. For a more   │\n",
       "│ direct recommendation, consider the following list of songs: 'The Day Has Come' by skyline, 'Strange Days' by   │\n",
       "│ The Doors, 'Hotel California' by Eagles, 'Sycamore Tree' by Limp Bizkit, 'Adagio for Strings' by Samuel Barber, │\n",
       "│ and 'Gothic Symphony: Music for Halloween' by Rimsky-Korsakov, among others.\"}                                  │\n",
       "╰─────────────────────────────────────────────────────────────────────────────────────────────────────────────────╯\n",
       "</pre>\n"
      ],
      "text/plain": [
       "╭─────────────────────────────────────────────────────────────────────────────────────────────────────────────────╮\n",
       "│ Calling tool: 'final_answer' with arguments: {'answer': \"Given the recurring issues with the web search tool, I │\n",
       "│ will provide a recommendation based on common music genres for a high-end mansion party in a Gotham City style  │\n",
       "│ setting. You might consider a mix of orchestral music, jazz, and dark, moody songs, along with some classic     │\n",
       "│ rock and gothic-inspired tracks. Some specific recommendations could include composers like Rachmaninoff or     │\n",
       "│ Tchaikovsky, jazz bands, and modern pieces by composers who lean towards dark and dramatic styles. For a more   │\n",
       "│ direct recommendation, consider the following list of songs: 'The Day Has Come' by skyline, 'Strange Days' by   │\n",
       "│ The Doors, 'Hotel California' by Eagles, 'Sycamore Tree' by Limp Bizkit, 'Adagio for Strings' by Samuel Barber, │\n",
       "│ and 'Gothic Symphony: Music for Halloween' by Rimsky-Korsakov, among others.\"}                                  │\n",
       "╰─────────────────────────────────────────────────────────────────────────────────────────────────────────────────╯\n"
      ]
     },
     "metadata": {},
     "output_type": "display_data"
    },
    {
     "data": {
      "text/html": [
       "<pre style=\"white-space:pre;overflow-x:auto;line-height:normal;font-family:Menlo,'DejaVu Sans Mono',consolas,'Courier New',monospace\"><span style=\"color: #d4b702; text-decoration-color: #d4b702; font-weight: bold\">Final answer: Given the recurring issues with the web search tool, I will provide a recommendation based on common </span>\n",
       "<span style=\"color: #d4b702; text-decoration-color: #d4b702; font-weight: bold\">music genres for a high-end mansion party in a Gotham City style setting. You might consider a mix of orchestral </span>\n",
       "<span style=\"color: #d4b702; text-decoration-color: #d4b702; font-weight: bold\">music, jazz, and dark, moody songs, along with some classic rock and gothic-inspired tracks. Some specific </span>\n",
       "<span style=\"color: #d4b702; text-decoration-color: #d4b702; font-weight: bold\">recommendations could include composers like Rachmaninoff or Tchaikovsky, jazz bands, and modern pieces by </span>\n",
       "<span style=\"color: #d4b702; text-decoration-color: #d4b702; font-weight: bold\">composers who lean towards dark and dramatic styles. For a more direct recommendation, consider the following list </span>\n",
       "<span style=\"color: #d4b702; text-decoration-color: #d4b702; font-weight: bold\">of songs: 'The Day Has Come' by skyline, 'Strange Days' by The Doors, 'Hotel California' by Eagles, 'Sycamore Tree'</span>\n",
       "<span style=\"color: #d4b702; text-decoration-color: #d4b702; font-weight: bold\">by Limp Bizkit, 'Adagio for Strings' by Samuel Barber, and 'Gothic Symphony: Music for Halloween' by </span>\n",
       "<span style=\"color: #d4b702; text-decoration-color: #d4b702; font-weight: bold\">Rimsky-Korsakov, among others.</span>\n",
       "</pre>\n"
      ],
      "text/plain": [
       "\u001b[1;38;2;212;183;2mFinal answer: Given the recurring issues with the web search tool, I will provide a recommendation based on common \u001b[0m\n",
       "\u001b[1;38;2;212;183;2mmusic genres for a high-end mansion party in a Gotham City style setting. You might consider a mix of orchestral \u001b[0m\n",
       "\u001b[1;38;2;212;183;2mmusic, jazz, and dark, moody songs, along with some classic rock and gothic-inspired tracks. Some specific \u001b[0m\n",
       "\u001b[1;38;2;212;183;2mrecommendations could include composers like Rachmaninoff or Tchaikovsky, jazz bands, and modern pieces by \u001b[0m\n",
       "\u001b[1;38;2;212;183;2mcomposers who lean towards dark and dramatic styles. For a more direct recommendation, consider the following list \u001b[0m\n",
       "\u001b[1;38;2;212;183;2mof songs: 'The Day Has Come' by skyline, 'Strange Days' by The Doors, 'Hotel California' by Eagles, 'Sycamore Tree'\u001b[0m\n",
       "\u001b[1;38;2;212;183;2mby Limp Bizkit, 'Adagio for Strings' by Samuel Barber, and 'Gothic Symphony: Music for Halloween' by \u001b[0m\n",
       "\u001b[1;38;2;212;183;2mRimsky-Korsakov, among others.\u001b[0m\n"
      ]
     },
     "metadata": {},
     "output_type": "display_data"
    },
    {
     "data": {
      "text/html": [
       "<pre style=\"white-space:pre;overflow-x:auto;line-height:normal;font-family:Menlo,'DejaVu Sans Mono',consolas,'Courier New',monospace\"><span style=\"color: #7f7f7f; text-decoration-color: #7f7f7f\">[Step 4: Duration 26.53 seconds| Input tokens: 8,836 | Output tokens: 310]</span>\n",
       "</pre>\n"
      ],
      "text/plain": [
       "\u001b[2m[Step 4: Duration 26.53 seconds| Input tokens: 8,836 | Output tokens: 310]\u001b[0m\n"
      ]
     },
     "metadata": {},
     "output_type": "display_data"
    },
    {
     "data": {
      "text/plain": [
       "\"Given the recurring issues with the web search tool, I will provide a recommendation based on common music genres for a high-end mansion party in a Gotham City style setting. You might consider a mix of orchestral music, jazz, and dark, moody songs, along with some classic rock and gothic-inspired tracks. Some specific recommendations could include composers like Rachmaninoff or Tchaikovsky, jazz bands, and modern pieces by composers who lean towards dark and dramatic styles. For a more direct recommendation, consider the following list of songs: 'The Day Has Come' by skyline, 'Strange Days' by The Doors, 'Hotel California' by Eagles, 'Sycamore Tree' by Limp Bizkit, 'Adagio for Strings' by Samuel Barber, and 'Gothic Symphony: Music for Halloween' by Rimsky-Korsakov, among others.\""
      ]
     },
     "execution_count": 1,
     "metadata": {},
     "output_type": "execute_result"
    }
   ],
   "source": [
    "from smolagents import ToolCallingAgent, DuckDuckGoSearchTool, HfApiModel\n",
    "\n",
    "agent = ToolCallingAgent(tools=[DuckDuckGoSearchTool()], model=HfApiModel())\n",
    "\n",
    "agent.run(\"Search for the best music recommendations for a party at the Wayne's mansion.\")"
   ]
  },
  {
   "cell_type": "markdown",
   "metadata": {
    "id": "Cl19VWGRYXrr"
   },
   "source": [
    "\n",
    "When you examine the agent's trace, instead of seeing `Executing parsed code:`, you'll see something like:\n",
    "\n",
    "```text\n",
    "╭─────────────────────────────────────────────────────────────────────────────────────────────────────────────────╮\n",
    "│ Calling tool: 'web_search' with arguments: {'query': \"best music recommendations for a party at Wayne's         │\n",
    "│ mansion\"}                                                                                                       │\n",
    "╰─────────────────────────────────────────────────────────────────────────────────────────────────────────────────╯\n",
    "```  \n",
    "\n",
    "The agent generates a structured tool call that the system processes to produce the output, rather than directly executing code like a `CodeAgent`.\n",
    "\n",
    "Now that we understand both agent types, we can choose the right one for our needs. Let's continue exploring `smolagents` to make Alfred's party a success! 🎉"
   ]
  }
 ],
 "metadata": {
  "colab": {
   "provenance": []
  },
  "kernelspec": {
   "display_name": "Python 3 (ipykernel)",
   "language": "python",
   "name": "python3"
  },
  "language_info": {
   "codemirror_mode": {
    "name": "ipython",
    "version": 3
   },
   "file_extension": ".py",
   "mimetype": "text/x-python",
   "name": "python",
   "nbconvert_exporter": "python",
   "pygments_lexer": "ipython3",
   "version": "3.13.0"
  }
 },
 "nbformat": 4,
 "nbformat_minor": 4
}
